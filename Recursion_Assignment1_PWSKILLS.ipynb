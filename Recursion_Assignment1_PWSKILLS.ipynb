{
 "cells": [
  {
   "cell_type": "markdown",
   "id": "7c5cfb2a",
   "metadata": {},
   "source": [
    "Question 1 :- Can you explain the logic and working of the Tower of Hanoi algorithm by writing a Java program? How does the recursion work, and how are the movements of disks between rods accomplished?\n",
    "\n",
    "Tower of Hanoi consists of three rods and a number of disks of different sizes which can slide onto any rod. The puzzle starts with the disks in a neat stack in ascending order of size on one rod, the smallest at the top, making a conical shape.\n",
    "\n",
    "1. Only one disk can be moved at a time.\n",
    "2. Each move consists of taking the top disk from one stack and placing it on top of another stack.\n",
    "3. No disk may be placed on top of a smaller disk."
   ]
  },
  {
   "cell_type": "markdown",
   "id": "9a1b8f37",
   "metadata": {},
   "source": [
    "The recursive solution for the Tower of Hanoi problem follows these steps:\n",
    "\n",
    "1. Move n-1 disks from the source rod to the auxiliary rod, using the destination rod as the auxiliary.\n",
    "2. Move the nth disk from the source rod to the destination rod.\n",
    "3. Move the n-1 disks from the auxiliary rod to the destination rod, using the source rod as the auxiliary."
   ]
  },
  {
   "cell_type": "markdown",
   "id": "8cdb0ba9",
   "metadata": {},
   "source": [
    "Question 2 :- Given two strings word1 and word2, return the minimum number of operations required to convert word1 to word2.\n"
   ]
  },
  {
   "cell_type": "code",
   "execution_count": 1,
   "id": "02dd10dc",
   "metadata": {},
   "outputs": [
    {
     "name": "stdout",
     "output_type": "stream",
     "text": [
      "3\n"
     ]
    }
   ],
   "source": [
    "def min_distance(word1, word2):\n",
    "    m, n = len(word1), len(word2)\n",
    "    # Initializing a 2D array to store the edit distances\n",
    "    dp = [[0] * (n + 1) for _ in range(m + 1)]\n",
    "    \n",
    "    # Initializing the first row and column\n",
    "    for i in range(m + 1):\n",
    "        dp[i][0] = i\n",
    "    for j in range(n + 1):\n",
    "        dp[0][j] = j\n",
    "    \n",
    "    # Filling the dp array\n",
    "    for i in range(1, m + 1):\n",
    "        for j in range(1, n + 1):\n",
    "            if word1[i - 1] == word2[j - 1]:\n",
    "                dp[i][j] = dp[i - 1][j - 1]  # No operation needed\n",
    "            else:\n",
    "                dp[i][j] = min(dp[i - 1][j - 1], dp[i][j - 1], dp[i - 1][j]) + 1\n",
    "    \n",
    "    return dp[m][n]\n",
    "\n",
    "\n",
    "word1 = \"horse\"\n",
    "word2 = \"ros\"\n",
    "print(min_distance(word1, word2))"
   ]
  },
  {
   "cell_type": "markdown",
   "id": "1f014e66",
   "metadata": {},
   "source": [
    "Question 3 :- Print the max value of the array [ 13, 1, -3, 22, 5]."
   ]
  },
  {
   "cell_type": "code",
   "execution_count": 3,
   "id": "fe405c84",
   "metadata": {},
   "outputs": [
    {
     "name": "stdout",
     "output_type": "stream",
     "text": [
      "Max value: 22\n"
     ]
    }
   ],
   "source": [
    "def max_value(arr):\n",
    "    if len(arr) == 1:\n",
    "        return arr[0]\n",
    "    else:\n",
    "        mid = len(arr) // 2\n",
    "        left_max = max_value(arr[:mid])\n",
    "        right_max = max_value(arr[mid:])\n",
    "        return max(left_max, right_max)\n",
    "\n",
    "arr = [13, 1, -3, 22, 5]\n",
    "print(\"Max value:\", max_value(arr))"
   ]
  },
  {
   "cell_type": "markdown",
   "id": "3300d10e",
   "metadata": {},
   "source": [
    "Question 4 :- Find the sum of the values of the array [92, 23, 15, -20, 10]."
   ]
  },
  {
   "cell_type": "code",
   "execution_count": 5,
   "id": "38e8bcc6",
   "metadata": {},
   "outputs": [
    {
     "name": "stdout",
     "output_type": "stream",
     "text": [
      "Max value: 38\n"
     ]
    }
   ],
   "source": [
    "def array_sum(arr):\n",
    "    if len(arr) == 1:\n",
    "        return arr[0]\n",
    "    else:\n",
    "        mid = len(arr) // 2\n",
    "        left_sum = array_sum(arr[:mid])\n",
    "        right_sum = array_sum(arr[mid:])\n",
    "        return left_sum + right_sum\n",
    "            \n",
    "            \n",
    "arr = [13, 1, -3, 22, 5]\n",
    "print(\"Max value:\", array_sum(arr))"
   ]
  },
  {
   "cell_type": "markdown",
   "id": "c89d5928",
   "metadata": {},
   "source": [
    "Question 5 :- Given a number n. Print if it is an armstrong number or not.An armstrong number is a number if the sum of every digit in that number raised to the power of total digits in that number is equal to the number."
   ]
  },
  {
   "cell_type": "code",
   "execution_count": 7,
   "id": "3e6d9f8e",
   "metadata": {},
   "outputs": [
    {
     "name": "stdout",
     "output_type": "stream",
     "text": [
      "Output 1: Yes\n"
     ]
    }
   ],
   "source": [
    "def is_armstrong_number(n):\n",
    "    num_digits = len(str(n))\n",
    "    \n",
    "    armstrong_sum = 0\n",
    "    \n",
    "    temp = n\n",
    "    \n",
    "    # Calculating sum of digits raised to the power of total digits\n",
    "    while temp > 0:\n",
    "        digit = temp % 10\n",
    "        armstrong_sum += digit ** num_digits\n",
    "        temp //= 10\n",
    "    \n",
    "    # Checking if the sum equals the original number\n",
    "    if armstrong_sum == n:\n",
    "        return \"Yes\"\n",
    "    else:\n",
    "        return \"No\"\n",
    "\n",
    "n1 = 153\n",
    "print(\"Output 1:\", is_armstrong_number(n1))"
   ]
  },
  {
   "cell_type": "code",
   "execution_count": null,
   "id": "2aa02ba3",
   "metadata": {},
   "outputs": [],
   "source": []
  }
 ],
 "metadata": {
  "kernelspec": {
   "display_name": "Python 3 (ipykernel)",
   "language": "python",
   "name": "python3"
  },
  "language_info": {
   "codemirror_mode": {
    "name": "ipython",
    "version": 3
   },
   "file_extension": ".py",
   "mimetype": "text/x-python",
   "name": "python",
   "nbconvert_exporter": "python",
   "pygments_lexer": "ipython3",
   "version": "3.11.3"
  }
 },
 "nbformat": 4,
 "nbformat_minor": 5
}
